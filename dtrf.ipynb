{
 "cells": [
  {
   "cell_type": "code",
   "execution_count": 4,
   "metadata": {},
   "outputs": [],
   "source": [
    "import pandas as pd\n",
    "from sklearn import tree\n",
    "from sklearn import ensemble"
   ]
  },
  {
   "cell_type": "code",
   "execution_count": 5,
   "metadata": {},
   "outputs": [
    {
     "output_type": "execute_result",
     "data": {
      "text/plain": [
       "array([[  1.,   4.,   4., ...,   9., 120.,  16.],\n",
       "       [  2.,   4.,   4., ...,   9., 108.,  16.],\n",
       "       [  3.,   4.,   4., ...,   9.,  83.,   4.],\n",
       "       ...,\n",
       "       [  1.,  15.,   6., ...,   8.,  91.,  16.],\n",
       "       [  2.,  15.,   6., ...,   8.,  88.,  13.],\n",
       "       [  3.,  15.,   6., ...,   8.,  32.,   4.]])"
      ]
     },
     "metadata": {},
     "execution_count": 5
    }
   ],
   "source": [
    "train_x = pd.read_csv(\"train_x.csv\").to_numpy()\n",
    "train_y = pd.read_csv(\"train_y.csv\").to_numpy()\n",
    "train_info = pd.read_csv(\"train_info.csv\").to_numpy()\n",
    "train_x"
   ]
  },
  {
   "cell_type": "code",
   "execution_count": 13,
   "metadata": {
    "tags": []
   },
   "outputs": [
    {
     "output_type": "execute_result",
     "data": {
      "text/plain": [
       "17044"
      ]
     },
     "metadata": {},
     "execution_count": 13
    }
   ],
   "source": [
    "row_indices = []\n",
    "row_index = 0\n",
    "count = 0\n",
    "for row in train_x:\n",
    "    if row[4] == 0:\n",
    "        row_indices.append(row_index)\n",
    "    row_index += 1\n",
    "len(row_indices)"
   ]
  },
  {
   "cell_type": "code",
   "execution_count": null,
   "metadata": {},
   "outputs": [],
   "source": [
    "dtclf = tree.DecisionTreeClassifier()\n",
    "clf.fit(train_x, train_y)\n",
    "yhat = clf.predict(train_x)"
   ]
  }
 ],
 "metadata": {
  "kernelspec": {
   "display_name": "Python 3",
   "language": "python",
   "name": "python3"
  },
  "language_info": {
   "codemirror_mode": {
    "name": "ipython",
    "version": 3
   },
   "file_extension": ".py",
   "mimetype": "text/x-python",
   "name": "python",
   "nbconvert_exporter": "python",
   "pygments_lexer": "ipython3",
   "version": "3.8.5-final"
  }
 },
 "nbformat": 4,
 "nbformat_minor": 2
}