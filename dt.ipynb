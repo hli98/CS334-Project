{
 "cells": [
  {
   "cell_type": "code",
   "execution_count": 12,
   "metadata": {},
   "outputs": [],
   "source": [
    "import pandas as pd\n",
    "from sklearn import tree\n",
    "from sklearn import ensemble"
   ]
  },
  {
   "cell_type": "code",
   "execution_count": 13,
   "metadata": {},
   "outputs": [
    {
     "output_type": "execute_result",
     "data": {
      "text/plain": [
       "array([[ 1.,  4.,  4., ...,  0.,  0.,  0.],\n",
       "       [ 2.,  4.,  4., ...,  0.,  0.,  0.],\n",
       "       [ 3.,  4.,  4., ...,  0.,  0.,  0.],\n",
       "       ...,\n",
       "       [ 1., 15.,  6., ...,  0.,  0.,  0.],\n",
       "       [ 2., 15.,  6., ...,  0.,  0.,  0.],\n",
       "       [ 3., 15.,  6., ...,  0.,  0.,  0.]])"
      ]
     },
     "metadata": {},
     "execution_count": 13
    }
   ],
   "source": [
    "train_x = pd.read_csv(\"train_x.csv\").to_numpy()\n",
    "train_y = pd.read_csv(\"train_y.csv\").to_numpy()\n",
    "train_info = pd.read_csv(\"train_info.csv\").to_numpy()\n",
    "train_x"
   ]
  },
  {
   "cell_type": "code",
   "execution_count": 14,
   "metadata": {
    "tags": []
   },
   "outputs": [
    {
     "output_type": "execute_result",
     "data": {
      "text/plain": [
       "17044"
      ]
     },
     "metadata": {},
     "execution_count": 14
    }
   ],
   "source": [
    "row_indices = []\n",
    "row_index = 0\n",
    "count = 0\n",
    "for row in train_x:\n",
    "    if row[4] == 0:\n",
    "        row_indices.append(row_index)\n",
    "    row_index += 1\n",
    "len(row_indices)"
   ]
  },
  {
   "cell_type": "code",
   "execution_count": 15,
   "metadata": {},
   "outputs": [
    {
     "output_type": "execute_result",
     "data": {
      "text/plain": [
       "array([1, 1, 0, ..., 1, 1, 1], dtype=int64)"
      ]
     },
     "metadata": {},
     "execution_count": 15
    }
   ],
   "source": [
    "dtclf = tree.DecisionTreeClassifier()\n",
    "dtclf.fit(train_x, train_y)\n",
    "dtyhat = dtclf.predict(train_x)\n",
    "for i in range(len(dtyhat)):\n",
    "    if i in row_indices:\n",
    "        dtyhat[i] = 0\n",
    "pd.DataFrame(dtyhat).to_csv(\"dt_yhat.csv\", index = False)\n",
    "dtyhat"
   ]
  },
  {
   "cell_type": "code",
   "execution_count": 16,
   "metadata": {},
   "outputs": [],
   "source": [
    "rfclf = ensemble.RandomForestClassifier()\n",
    "rfclf.fit(train_x, train_y)\n",
    "rfyhat = rfclf.predict(train_x)\n",
    "for i in range(len(rfyhat)):\n",
    "    if i in row_indices:\n",
    "        rfyhat[i] = 0\n",
    "pd.DataFrame(rfyhat).to_csv(\"rf_yhat.csv\", index = False)\n",
    "rfyhat"
   ]
  },
  {
   "cell_type": "code",
   "execution_count": null,
   "metadata": {},
   "outputs": [],
   "source": []
  }
 ],
 "metadata": {
  "kernelspec": {
   "display_name": "Python 3",
   "language": "python",
   "name": "python3"
  },
  "language_info": {
   "codemirror_mode": {
    "name": "ipython",
    "version": 3
   },
   "file_extension": ".py",
   "mimetype": "text/x-python",
   "name": "python",
   "nbconvert_exporter": "python",
   "pygments_lexer": "ipython3",
   "version": "3.8.5-final"
  }
 },
 "nbformat": 4,
 "nbformat_minor": 2
}