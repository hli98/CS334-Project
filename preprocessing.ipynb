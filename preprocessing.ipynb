{
 "metadata": {
  "language_info": {
   "codemirror_mode": {
    "name": "ipython",
    "version": 3
   },
   "file_extension": ".py",
   "mimetype": "text/x-python",
   "name": "python",
   "nbconvert_exporter": "python",
   "pygments_lexer": "ipython3",
   "version": "3.8.5-final"
  },
  "orig_nbformat": 2,
  "kernelspec": {
   "name": "python3",
   "display_name": "Python 3"
  }
 },
 "nbformat": 4,
 "nbformat_minor": 2,
 "cells": [
  {
   "cell_type": "code",
   "execution_count": 1,
   "metadata": {},
   "outputs": [],
   "source": [
    "import pandas as pd "
   ]
  },
  {
   "cell_type": "code",
   "execution_count": 2,
   "metadata": {},
   "outputs": [
    {
     "output_type": "execute_result",
     "data": {
      "text/plain": [
       "     aisle_id                       aisle\n",
       "0           1       prepared soups salads\n",
       "1           2           specialty cheeses\n",
       "2           3         energy granola bars\n",
       "3           4               instant foods\n",
       "4           5  marinades meat preparation\n",
       "..        ...                         ...\n",
       "129       130    hot cereal pancake mixes\n",
       "130       131                   dry pasta\n",
       "131       132                      beauty\n",
       "132       133  muscles joints pain relief\n",
       "133       134  specialty wines champagnes\n",
       "\n",
       "[134 rows x 2 columns]"
      ],
      "text/html": "<div>\n<style scoped>\n    .dataframe tbody tr th:only-of-type {\n        vertical-align: middle;\n    }\n\n    .dataframe tbody tr th {\n        vertical-align: top;\n    }\n\n    .dataframe thead th {\n        text-align: right;\n    }\n</style>\n<table border=\"1\" class=\"dataframe\">\n  <thead>\n    <tr style=\"text-align: right;\">\n      <th></th>\n      <th>aisle_id</th>\n      <th>aisle</th>\n    </tr>\n  </thead>\n  <tbody>\n    <tr>\n      <th>0</th>\n      <td>1</td>\n      <td>prepared soups salads</td>\n    </tr>\n    <tr>\n      <th>1</th>\n      <td>2</td>\n      <td>specialty cheeses</td>\n    </tr>\n    <tr>\n      <th>2</th>\n      <td>3</td>\n      <td>energy granola bars</td>\n    </tr>\n    <tr>\n      <th>3</th>\n      <td>4</td>\n      <td>instant foods</td>\n    </tr>\n    <tr>\n      <th>4</th>\n      <td>5</td>\n      <td>marinades meat preparation</td>\n    </tr>\n    <tr>\n      <th>...</th>\n      <td>...</td>\n      <td>...</td>\n    </tr>\n    <tr>\n      <th>129</th>\n      <td>130</td>\n      <td>hot cereal pancake mixes</td>\n    </tr>\n    <tr>\n      <th>130</th>\n      <td>131</td>\n      <td>dry pasta</td>\n    </tr>\n    <tr>\n      <th>131</th>\n      <td>132</td>\n      <td>beauty</td>\n    </tr>\n    <tr>\n      <th>132</th>\n      <td>133</td>\n      <td>muscles joints pain relief</td>\n    </tr>\n    <tr>\n      <th>133</th>\n      <td>134</td>\n      <td>specialty wines champagnes</td>\n    </tr>\n  </tbody>\n</table>\n<p>134 rows × 2 columns</p>\n</div>"
     },
     "metadata": {},
     "execution_count": 2
    }
   ],
   "source": [
    "aisles = pd.read_csv(\"./src/aisles.csv\")\n",
    "aisles"
   ]
  },
  {
   "cell_type": "code",
   "execution_count": 3,
   "metadata": {},
   "outputs": [
    {
     "output_type": "execute_result",
     "data": {
      "text/plain": [
       "    department_id       department\n",
       "0               1           frozen\n",
       "1               2            other\n",
       "2               3           bakery\n",
       "3               4          produce\n",
       "4               5          alcohol\n",
       "5               6    international\n",
       "6               7        beverages\n",
       "7               8             pets\n",
       "8               9  dry goods pasta\n",
       "9              10             bulk\n",
       "10             11    personal care\n",
       "11             12     meat seafood\n",
       "12             13           pantry\n",
       "13             14        breakfast\n",
       "14             15     canned goods\n",
       "15             16       dairy eggs\n",
       "16             17        household\n",
       "17             18           babies\n",
       "18             19           snacks\n",
       "19             20             deli\n",
       "20             21          missing"
      ],
      "text/html": "<div>\n<style scoped>\n    .dataframe tbody tr th:only-of-type {\n        vertical-align: middle;\n    }\n\n    .dataframe tbody tr th {\n        vertical-align: top;\n    }\n\n    .dataframe thead th {\n        text-align: right;\n    }\n</style>\n<table border=\"1\" class=\"dataframe\">\n  <thead>\n    <tr style=\"text-align: right;\">\n      <th></th>\n      <th>department_id</th>\n      <th>department</th>\n    </tr>\n  </thead>\n  <tbody>\n    <tr>\n      <th>0</th>\n      <td>1</td>\n      <td>frozen</td>\n    </tr>\n    <tr>\n      <th>1</th>\n      <td>2</td>\n      <td>other</td>\n    </tr>\n    <tr>\n      <th>2</th>\n      <td>3</td>\n      <td>bakery</td>\n    </tr>\n    <tr>\n      <th>3</th>\n      <td>4</td>\n      <td>produce</td>\n    </tr>\n    <tr>\n      <th>4</th>\n      <td>5</td>\n      <td>alcohol</td>\n    </tr>\n    <tr>\n      <th>5</th>\n      <td>6</td>\n      <td>international</td>\n    </tr>\n    <tr>\n      <th>6</th>\n      <td>7</td>\n      <td>beverages</td>\n    </tr>\n    <tr>\n      <th>7</th>\n      <td>8</td>\n      <td>pets</td>\n    </tr>\n    <tr>\n      <th>8</th>\n      <td>9</td>\n      <td>dry goods pasta</td>\n    </tr>\n    <tr>\n      <th>9</th>\n      <td>10</td>\n      <td>bulk</td>\n    </tr>\n    <tr>\n      <th>10</th>\n      <td>11</td>\n      <td>personal care</td>\n    </tr>\n    <tr>\n      <th>11</th>\n      <td>12</td>\n      <td>meat seafood</td>\n    </tr>\n    <tr>\n      <th>12</th>\n      <td>13</td>\n      <td>pantry</td>\n    </tr>\n    <tr>\n      <th>13</th>\n      <td>14</td>\n      <td>breakfast</td>\n    </tr>\n    <tr>\n      <th>14</th>\n      <td>15</td>\n      <td>canned goods</td>\n    </tr>\n    <tr>\n      <th>15</th>\n      <td>16</td>\n      <td>dairy eggs</td>\n    </tr>\n    <tr>\n      <th>16</th>\n      <td>17</td>\n      <td>household</td>\n    </tr>\n    <tr>\n      <th>17</th>\n      <td>18</td>\n      <td>babies</td>\n    </tr>\n    <tr>\n      <th>18</th>\n      <td>19</td>\n      <td>snacks</td>\n    </tr>\n    <tr>\n      <th>19</th>\n      <td>20</td>\n      <td>deli</td>\n    </tr>\n    <tr>\n      <th>20</th>\n      <td>21</td>\n      <td>missing</td>\n    </tr>\n  </tbody>\n</table>\n</div>"
     },
     "metadata": {},
     "execution_count": 3
    }
   ],
   "source": [
    "departments = pd.read_csv(\"./src/departments.csv\")\n",
    "departments"
   ]
  },
  {
   "cell_type": "code",
   "execution_count": 4,
   "metadata": {},
   "outputs": [],
   "source": [
    "#order_products__prior = pd.read_csv(\"./src/order_products__prior.csv\")\n",
    "#order_products__prior"
   ]
  },
  {
   "cell_type": "code",
   "execution_count": 5,
   "metadata": {},
   "outputs": [
    {
     "output_type": "execute_result",
     "data": {
      "text/plain": [
       "         order_id  product_id  add_to_cart_order  reordered\n",
       "0               1       49302                  1          1\n",
       "1               1       11109                  2          1\n",
       "2               1       10246                  3          0\n",
       "3               1       49683                  4          0\n",
       "4               1       43633                  5          1\n",
       "...           ...         ...                ...        ...\n",
       "1384612   3421063       14233                  3          1\n",
       "1384613   3421063       35548                  4          1\n",
       "1384614   3421070       35951                  1          1\n",
       "1384615   3421070       16953                  2          1\n",
       "1384616   3421070        4724                  3          1\n",
       "\n",
       "[1384617 rows x 4 columns]"
      ],
      "text/html": "<div>\n<style scoped>\n    .dataframe tbody tr th:only-of-type {\n        vertical-align: middle;\n    }\n\n    .dataframe tbody tr th {\n        vertical-align: top;\n    }\n\n    .dataframe thead th {\n        text-align: right;\n    }\n</style>\n<table border=\"1\" class=\"dataframe\">\n  <thead>\n    <tr style=\"text-align: right;\">\n      <th></th>\n      <th>order_id</th>\n      <th>product_id</th>\n      <th>add_to_cart_order</th>\n      <th>reordered</th>\n    </tr>\n  </thead>\n  <tbody>\n    <tr>\n      <th>0</th>\n      <td>1</td>\n      <td>49302</td>\n      <td>1</td>\n      <td>1</td>\n    </tr>\n    <tr>\n      <th>1</th>\n      <td>1</td>\n      <td>11109</td>\n      <td>2</td>\n      <td>1</td>\n    </tr>\n    <tr>\n      <th>2</th>\n      <td>1</td>\n      <td>10246</td>\n      <td>3</td>\n      <td>0</td>\n    </tr>\n    <tr>\n      <th>3</th>\n      <td>1</td>\n      <td>49683</td>\n      <td>4</td>\n      <td>0</td>\n    </tr>\n    <tr>\n      <th>4</th>\n      <td>1</td>\n      <td>43633</td>\n      <td>5</td>\n      <td>1</td>\n    </tr>\n    <tr>\n      <th>...</th>\n      <td>...</td>\n      <td>...</td>\n      <td>...</td>\n      <td>...</td>\n    </tr>\n    <tr>\n      <th>1384612</th>\n      <td>3421063</td>\n      <td>14233</td>\n      <td>3</td>\n      <td>1</td>\n    </tr>\n    <tr>\n      <th>1384613</th>\n      <td>3421063</td>\n      <td>35548</td>\n      <td>4</td>\n      <td>1</td>\n    </tr>\n    <tr>\n      <th>1384614</th>\n      <td>3421070</td>\n      <td>35951</td>\n      <td>1</td>\n      <td>1</td>\n    </tr>\n    <tr>\n      <th>1384615</th>\n      <td>3421070</td>\n      <td>16953</td>\n      <td>2</td>\n      <td>1</td>\n    </tr>\n    <tr>\n      <th>1384616</th>\n      <td>3421070</td>\n      <td>4724</td>\n      <td>3</td>\n      <td>1</td>\n    </tr>\n  </tbody>\n</table>\n<p>1384617 rows × 4 columns</p>\n</div>"
     },
     "metadata": {},
     "execution_count": 5
    }
   ],
   "source": [
    "order_products__train = pd.read_csv(\"./src/order_products__train.csv\")\n",
    "order_products__train"
   ]
  },
  {
   "cell_type": "code",
   "execution_count": 6,
   "metadata": {},
   "outputs": [
    {
     "output_type": "execute_result",
     "data": {
      "text/plain": [
       "         order_id  user_id eval_set  order_number  order_dow  \\\n",
       "0         2539329        1    prior             1          2   \n",
       "1         2398795        1    prior             2          3   \n",
       "2          473747        1    prior             3          3   \n",
       "3         2254736        1    prior             4          4   \n",
       "4          431534        1    prior             5          4   \n",
       "...           ...      ...      ...           ...        ...   \n",
       "3421078   2266710   206209    prior            10          5   \n",
       "3421079   1854736   206209    prior            11          4   \n",
       "3421080    626363   206209    prior            12          1   \n",
       "3421081   2977660   206209    prior            13          1   \n",
       "3421082    272231   206209    train            14          6   \n",
       "\n",
       "         order_hour_of_day  days_since_prior_order  \n",
       "0                        8                    -1.0  \n",
       "1                        7                    15.0  \n",
       "2                       12                    21.0  \n",
       "3                        7                    29.0  \n",
       "4                       15                    28.0  \n",
       "...                    ...                     ...  \n",
       "3421078                 18                    29.0  \n",
       "3421079                 10                    30.0  \n",
       "3421080                 12                    18.0  \n",
       "3421081                 12                     7.0  \n",
       "3421082                 14                    30.0  \n",
       "\n",
       "[3421083 rows x 7 columns]"
      ],
      "text/html": "<div>\n<style scoped>\n    .dataframe tbody tr th:only-of-type {\n        vertical-align: middle;\n    }\n\n    .dataframe tbody tr th {\n        vertical-align: top;\n    }\n\n    .dataframe thead th {\n        text-align: right;\n    }\n</style>\n<table border=\"1\" class=\"dataframe\">\n  <thead>\n    <tr style=\"text-align: right;\">\n      <th></th>\n      <th>order_id</th>\n      <th>user_id</th>\n      <th>eval_set</th>\n      <th>order_number</th>\n      <th>order_dow</th>\n      <th>order_hour_of_day</th>\n      <th>days_since_prior_order</th>\n    </tr>\n  </thead>\n  <tbody>\n    <tr>\n      <th>0</th>\n      <td>2539329</td>\n      <td>1</td>\n      <td>prior</td>\n      <td>1</td>\n      <td>2</td>\n      <td>8</td>\n      <td>-1.0</td>\n    </tr>\n    <tr>\n      <th>1</th>\n      <td>2398795</td>\n      <td>1</td>\n      <td>prior</td>\n      <td>2</td>\n      <td>3</td>\n      <td>7</td>\n      <td>15.0</td>\n    </tr>\n    <tr>\n      <th>2</th>\n      <td>473747</td>\n      <td>1</td>\n      <td>prior</td>\n      <td>3</td>\n      <td>3</td>\n      <td>12</td>\n      <td>21.0</td>\n    </tr>\n    <tr>\n      <th>3</th>\n      <td>2254736</td>\n      <td>1</td>\n      <td>prior</td>\n      <td>4</td>\n      <td>4</td>\n      <td>7</td>\n      <td>29.0</td>\n    </tr>\n    <tr>\n      <th>4</th>\n      <td>431534</td>\n      <td>1</td>\n      <td>prior</td>\n      <td>5</td>\n      <td>4</td>\n      <td>15</td>\n      <td>28.0</td>\n    </tr>\n    <tr>\n      <th>...</th>\n      <td>...</td>\n      <td>...</td>\n      <td>...</td>\n      <td>...</td>\n      <td>...</td>\n      <td>...</td>\n      <td>...</td>\n    </tr>\n    <tr>\n      <th>3421078</th>\n      <td>2266710</td>\n      <td>206209</td>\n      <td>prior</td>\n      <td>10</td>\n      <td>5</td>\n      <td>18</td>\n      <td>29.0</td>\n    </tr>\n    <tr>\n      <th>3421079</th>\n      <td>1854736</td>\n      <td>206209</td>\n      <td>prior</td>\n      <td>11</td>\n      <td>4</td>\n      <td>10</td>\n      <td>30.0</td>\n    </tr>\n    <tr>\n      <th>3421080</th>\n      <td>626363</td>\n      <td>206209</td>\n      <td>prior</td>\n      <td>12</td>\n      <td>1</td>\n      <td>12</td>\n      <td>18.0</td>\n    </tr>\n    <tr>\n      <th>3421081</th>\n      <td>2977660</td>\n      <td>206209</td>\n      <td>prior</td>\n      <td>13</td>\n      <td>1</td>\n      <td>12</td>\n      <td>7.0</td>\n    </tr>\n    <tr>\n      <th>3421082</th>\n      <td>272231</td>\n      <td>206209</td>\n      <td>train</td>\n      <td>14</td>\n      <td>6</td>\n      <td>14</td>\n      <td>30.0</td>\n    </tr>\n  </tbody>\n</table>\n<p>3421083 rows × 7 columns</p>\n</div>"
     },
     "metadata": {},
     "execution_count": 6
    }
   ],
   "source": [
    "orders = pd.read_csv(\"./src/orders.csv\").fillna(value = -1)   \n",
    "#make it -1 if empty, and the prediction would be 0!\n",
    "orders"
   ]
  },
  {
   "cell_type": "code",
   "execution_count": 7,
   "metadata": {},
   "outputs": [
    {
     "output_type": "error",
     "ename": "NameError",
     "evalue": "name 'weekend' is not defined",
     "traceback": [
      "\u001b[1;31m---------------------------------------------------------------------------\u001b[0m",
      "\u001b[1;31mNameError\u001b[0m                                 Traceback (most recent call last)",
      "\u001b[1;32m<ipython-input-7-6aa7e44bf6c4>\u001b[0m in \u001b[0;36m<module>\u001b[1;34m\u001b[0m\n\u001b[0;32m     10\u001b[0m         \u001b[0mis_weekend\u001b[0m\u001b[1;33m.\u001b[0m\u001b[0mappend\u001b[0m\u001b[1;33m(\u001b[0m\u001b[1;36m0\u001b[0m\u001b[1;33m)\u001b[0m\u001b[1;33m\u001b[0m\u001b[1;33m\u001b[0m\u001b[0m\n\u001b[0;32m     11\u001b[0m \u001b[0morders\u001b[0m \u001b[1;33m=\u001b[0m \u001b[0morders\u001b[0m\u001b[1;33m.\u001b[0m\u001b[0mdrop\u001b[0m\u001b[1;33m(\u001b[0m\u001b[0mcolumns\u001b[0m\u001b[1;33m=\u001b[0m\u001b[1;33m[\u001b[0m\u001b[1;34m'order_dow'\u001b[0m\u001b[1;33m]\u001b[0m\u001b[1;33m)\u001b[0m\u001b[1;33m\u001b[0m\u001b[1;33m\u001b[0m\u001b[0m\n\u001b[1;32m---> 12\u001b[1;33m \u001b[0morders\u001b[0m\u001b[1;33m[\u001b[0m\u001b[1;34m'is_weekend'\u001b[0m\u001b[1;33m]\u001b[0m \u001b[1;33m=\u001b[0m \u001b[0mpd\u001b[0m\u001b[1;33m.\u001b[0m\u001b[0mDataFrame\u001b[0m\u001b[1;33m(\u001b[0m\u001b[0mweekend\u001b[0m\u001b[1;33m)\u001b[0m\u001b[1;33m\u001b[0m\u001b[1;33m\u001b[0m\u001b[0m\n\u001b[0m\u001b[0;32m     13\u001b[0m \u001b[0morders\u001b[0m\u001b[1;33m\u001b[0m\u001b[1;33m\u001b[0m\u001b[0m\n",
      "\u001b[1;31mNameError\u001b[0m: name 'weekend' is not defined"
     ]
    }
   ],
   "source": [
    "#change order_dow to weekend\n",
    "#1 means weekend, 0 means weekday\n",
    "#0 is Saturday, 1 is Sunday ...\n",
    "\n",
    "is_weekend = []\n",
    "for dow in orders['order_dow']:\n",
    "    if dow <= 1:\n",
    "        is_weekend.append(1)\n",
    "    else:\n",
    "        is_weekend.append(0)\n",
    "orders = orders.drop(columns=['order_dow'])\n",
    "orders['is_weekend'] = pd.DataFrame(is_weekend)\n",
    "orders"
   ]
  },
  {
   "cell_type": "code",
   "execution_count": 62,
   "metadata": {},
   "outputs": [
    {
     "output_type": "execute_result",
     "data": {
      "text/plain": [
       "         order_id  user_id eval_set  order_number  days_since_prior_order  \\\n",
       "0         2539329        1    prior             1                    -1.0   \n",
       "1         2398795        1    prior             2                    15.0   \n",
       "2          473747        1    prior             3                    21.0   \n",
       "3         2254736        1    prior             4                    29.0   \n",
       "4          431534        1    prior             5                    28.0   \n",
       "...           ...      ...      ...           ...                     ...   \n",
       "3421078   2266710   206209    prior            10                    29.0   \n",
       "3421079   1854736   206209    prior            11                    30.0   \n",
       "3421080    626363   206209    prior            12                    18.0   \n",
       "3421081   2977660   206209    prior            13                     7.0   \n",
       "3421082    272231   206209    train            14                    30.0   \n",
       "\n",
       "         is_weekend  is_daytime  \n",
       "0                 0           1  \n",
       "1                 0           1  \n",
       "2                 0           1  \n",
       "3                 0           1  \n",
       "4                 0           1  \n",
       "...             ...         ...  \n",
       "3421078           0           1  \n",
       "3421079           0           1  \n",
       "3421080           1           1  \n",
       "3421081           1           1  \n",
       "3421082           0           1  \n",
       "\n",
       "[3421083 rows x 7 columns]"
      ],
      "text/html": "<div>\n<style scoped>\n    .dataframe tbody tr th:only-of-type {\n        vertical-align: middle;\n    }\n\n    .dataframe tbody tr th {\n        vertical-align: top;\n    }\n\n    .dataframe thead th {\n        text-align: right;\n    }\n</style>\n<table border=\"1\" class=\"dataframe\">\n  <thead>\n    <tr style=\"text-align: right;\">\n      <th></th>\n      <th>order_id</th>\n      <th>user_id</th>\n      <th>eval_set</th>\n      <th>order_number</th>\n      <th>days_since_prior_order</th>\n      <th>is_weekend</th>\n      <th>is_daytime</th>\n    </tr>\n  </thead>\n  <tbody>\n    <tr>\n      <th>0</th>\n      <td>2539329</td>\n      <td>1</td>\n      <td>prior</td>\n      <td>1</td>\n      <td>-1.0</td>\n      <td>0</td>\n      <td>1</td>\n    </tr>\n    <tr>\n      <th>1</th>\n      <td>2398795</td>\n      <td>1</td>\n      <td>prior</td>\n      <td>2</td>\n      <td>15.0</td>\n      <td>0</td>\n      <td>1</td>\n    </tr>\n    <tr>\n      <th>2</th>\n      <td>473747</td>\n      <td>1</td>\n      <td>prior</td>\n      <td>3</td>\n      <td>21.0</td>\n      <td>0</td>\n      <td>1</td>\n    </tr>\n    <tr>\n      <th>3</th>\n      <td>2254736</td>\n      <td>1</td>\n      <td>prior</td>\n      <td>4</td>\n      <td>29.0</td>\n      <td>0</td>\n      <td>1</td>\n    </tr>\n    <tr>\n      <th>4</th>\n      <td>431534</td>\n      <td>1</td>\n      <td>prior</td>\n      <td>5</td>\n      <td>28.0</td>\n      <td>0</td>\n      <td>1</td>\n    </tr>\n    <tr>\n      <th>...</th>\n      <td>...</td>\n      <td>...</td>\n      <td>...</td>\n      <td>...</td>\n      <td>...</td>\n      <td>...</td>\n      <td>...</td>\n    </tr>\n    <tr>\n      <th>3421078</th>\n      <td>2266710</td>\n      <td>206209</td>\n      <td>prior</td>\n      <td>10</td>\n      <td>29.0</td>\n      <td>0</td>\n      <td>1</td>\n    </tr>\n    <tr>\n      <th>3421079</th>\n      <td>1854736</td>\n      <td>206209</td>\n      <td>prior</td>\n      <td>11</td>\n      <td>30.0</td>\n      <td>0</td>\n      <td>1</td>\n    </tr>\n    <tr>\n      <th>3421080</th>\n      <td>626363</td>\n      <td>206209</td>\n      <td>prior</td>\n      <td>12</td>\n      <td>18.0</td>\n      <td>1</td>\n      <td>1</td>\n    </tr>\n    <tr>\n      <th>3421081</th>\n      <td>2977660</td>\n      <td>206209</td>\n      <td>prior</td>\n      <td>13</td>\n      <td>7.0</td>\n      <td>1</td>\n      <td>1</td>\n    </tr>\n    <tr>\n      <th>3421082</th>\n      <td>272231</td>\n      <td>206209</td>\n      <td>train</td>\n      <td>14</td>\n      <td>30.0</td>\n      <td>0</td>\n      <td>1</td>\n    </tr>\n  </tbody>\n</table>\n<p>3421083 rows × 7 columns</p>\n</div>"
     },
     "metadata": {},
     "execution_count": 62
    }
   ],
   "source": [
    "#change order_hour_of_day to daytime\n",
    "#1 means daytime, 0 means nighttime\n",
    "is_daytime = []\n",
    "for hour in orders['order_hour_of_day']:\n",
    "    if hour < 7 or hour > 19:\n",
    "        is_daytime.append(0)\n",
    "    else:\n",
    "        is_daytime.append(1)\n",
    "orders = orders.drop(columns=['order_hour_of_day'])\n",
    "orders['is_daytime'] = pd.DataFrame(is_daytime)\n",
    "orders"
   ]
  },
  {
   "cell_type": "code",
   "execution_count": 8,
   "metadata": {},
   "outputs": [
    {
     "output_type": "execute_result",
     "data": {
      "text/plain": [
       "       product_id                                       product_name  \\\n",
       "0               1                         Chocolate Sandwich Cookies   \n",
       "1               2                                   All-Seasons Salt   \n",
       "2               3               Robust Golden Unsweetened Oolong Tea   \n",
       "3               4  Smart Ones Classic Favorites Mini Rigatoni Wit...   \n",
       "4               5                          Green Chile Anytime Sauce   \n",
       "...           ...                                                ...   \n",
       "49683       49684          Vodka, Triple Distilled, Twist of Vanilla   \n",
       "49684       49685                 En Croute Roast Hazelnut Cranberry   \n",
       "49685       49686                                   Artisan Baguette   \n",
       "49686       49687         Smartblend Healthy Metabolism Dry Cat Food   \n",
       "49687       49688                             Fresh Foaming Cleanser   \n",
       "\n",
       "       aisle_id  department_id  \n",
       "0            61             19  \n",
       "1           104             13  \n",
       "2            94              7  \n",
       "3            38              1  \n",
       "4             5             13  \n",
       "...         ...            ...  \n",
       "49683       124              5  \n",
       "49684        42              1  \n",
       "49685       112              3  \n",
       "49686        41              8  \n",
       "49687        73             11  \n",
       "\n",
       "[49688 rows x 4 columns]"
      ],
      "text/html": "<div>\n<style scoped>\n    .dataframe tbody tr th:only-of-type {\n        vertical-align: middle;\n    }\n\n    .dataframe tbody tr th {\n        vertical-align: top;\n    }\n\n    .dataframe thead th {\n        text-align: right;\n    }\n</style>\n<table border=\"1\" class=\"dataframe\">\n  <thead>\n    <tr style=\"text-align: right;\">\n      <th></th>\n      <th>product_id</th>\n      <th>product_name</th>\n      <th>aisle_id</th>\n      <th>department_id</th>\n    </tr>\n  </thead>\n  <tbody>\n    <tr>\n      <th>0</th>\n      <td>1</td>\n      <td>Chocolate Sandwich Cookies</td>\n      <td>61</td>\n      <td>19</td>\n    </tr>\n    <tr>\n      <th>1</th>\n      <td>2</td>\n      <td>All-Seasons Salt</td>\n      <td>104</td>\n      <td>13</td>\n    </tr>\n    <tr>\n      <th>2</th>\n      <td>3</td>\n      <td>Robust Golden Unsweetened Oolong Tea</td>\n      <td>94</td>\n      <td>7</td>\n    </tr>\n    <tr>\n      <th>3</th>\n      <td>4</td>\n      <td>Smart Ones Classic Favorites Mini Rigatoni Wit...</td>\n      <td>38</td>\n      <td>1</td>\n    </tr>\n    <tr>\n      <th>4</th>\n      <td>5</td>\n      <td>Green Chile Anytime Sauce</td>\n      <td>5</td>\n      <td>13</td>\n    </tr>\n    <tr>\n      <th>...</th>\n      <td>...</td>\n      <td>...</td>\n      <td>...</td>\n      <td>...</td>\n    </tr>\n    <tr>\n      <th>49683</th>\n      <td>49684</td>\n      <td>Vodka, Triple Distilled, Twist of Vanilla</td>\n      <td>124</td>\n      <td>5</td>\n    </tr>\n    <tr>\n      <th>49684</th>\n      <td>49685</td>\n      <td>En Croute Roast Hazelnut Cranberry</td>\n      <td>42</td>\n      <td>1</td>\n    </tr>\n    <tr>\n      <th>49685</th>\n      <td>49686</td>\n      <td>Artisan Baguette</td>\n      <td>112</td>\n      <td>3</td>\n    </tr>\n    <tr>\n      <th>49686</th>\n      <td>49687</td>\n      <td>Smartblend Healthy Metabolism Dry Cat Food</td>\n      <td>41</td>\n      <td>8</td>\n    </tr>\n    <tr>\n      <th>49687</th>\n      <td>49688</td>\n      <td>Fresh Foaming Cleanser</td>\n      <td>73</td>\n      <td>11</td>\n    </tr>\n  </tbody>\n</table>\n<p>49688 rows × 4 columns</p>\n</div>"
     },
     "metadata": {},
     "execution_count": 8
    }
   ],
   "source": [
    "products = pd.read_csv(\"./src/products.csv\")\n",
    "products"
   ]
  },
  {
   "cell_type": "code",
   "execution_count": 51,
   "metadata": {},
   "outputs": [],
   "source": [
    "products = pd.get_dummies(products, prefix=['department_id_is'], columns=['department_id'])"
   ]
  },
  {
   "cell_type": "code",
   "execution_count": 52,
   "metadata": {},
   "outputs": [],
   "source": [
    "def merge_dfs(order_products, orders, products):\n",
    "    df = order_products\n",
    "    df = pd.merge(df, orders, how = 'left', on = 'order_id')\n",
    "    df = pd.merge(df, products.drop(columns=['product_name']), how = 'left', on = 'product_id')\n",
    "    return df"
   ]
  },
  {
   "cell_type": "code",
   "execution_count": 65,
   "metadata": {},
   "outputs": [
    {
     "output_type": "execute_result",
     "data": {
      "text/plain": [
       "         order_id  product_id  add_to_cart_order  reordered  user_id eval_set  \\\n",
       "0               1       49302                  1          1   112108    train   \n",
       "1               1       11109                  2          1   112108    train   \n",
       "2               1       10246                  3          0   112108    train   \n",
       "3               1       49683                  4          0   112108    train   \n",
       "4               1       43633                  5          1   112108    train   \n",
       "...           ...         ...                ...        ...      ...      ...   \n",
       "1384612   3421063       14233                  3          1   169679    train   \n",
       "1384613   3421063       35548                  4          1   169679    train   \n",
       "1384614   3421070       35951                  1          1   139822    train   \n",
       "1384615   3421070       16953                  2          1   139822    train   \n",
       "1384616   3421070        4724                  3          1   139822    train   \n",
       "\n",
       "         order_number  order_dow  order_hour_of_day  days_since_prior_order  \\\n",
       "0                   4          4                 10                     9.0   \n",
       "1                   4          4                 10                     9.0   \n",
       "2                   4          4                 10                     9.0   \n",
       "3                   4          4                 10                     9.0   \n",
       "4                   4          4                 10                     9.0   \n",
       "...               ...        ...                ...                     ...   \n",
       "1384612            30          0                 10                     4.0   \n",
       "1384613            30          0                 10                     4.0   \n",
       "1384614            15          6                 10                     8.0   \n",
       "1384615            15          6                 10                     8.0   \n",
       "1384616            15          6                 10                     8.0   \n",
       "\n",
       "         ...  department_id_is_12  department_id_is_13  department_id_is_14  \\\n",
       "0        ...                    0                    0                    0   \n",
       "1        ...                    0                    0                    0   \n",
       "2        ...                    0                    0                    0   \n",
       "3        ...                    0                    0                    0   \n",
       "4        ...                    0                    0                    0   \n",
       "...      ...                  ...                  ...                  ...   \n",
       "1384612  ...                    0                    0                    0   \n",
       "1384613  ...                    0                    0                    0   \n",
       "1384614  ...                    0                    0                    0   \n",
       "1384615  ...                    0                    1                    0   \n",
       "1384616  ...                    0                    0                    0   \n",
       "\n",
       "         department_id_is_15  department_id_is_16  department_id_is_17  \\\n",
       "0                          0                    1                    0   \n",
       "1                          0                    1                    0   \n",
       "2                          0                    0                    0   \n",
       "3                          0                    0                    0   \n",
       "4                          1                    0                    0   \n",
       "...                      ...                  ...                  ...   \n",
       "1384612                    0                    0                    0   \n",
       "1384613                    0                    0                    0   \n",
       "1384614                    0                    1                    0   \n",
       "1384615                    0                    0                    0   \n",
       "1384616                    0                    0                    0   \n",
       "\n",
       "         department_id_is_18  department_id_is_19  department_id_is_20  \\\n",
       "0                          0                    0                    0   \n",
       "1                          0                    0                    0   \n",
       "2                          0                    0                    0   \n",
       "3                          0                    0                    0   \n",
       "4                          0                    0                    0   \n",
       "...                      ...                  ...                  ...   \n",
       "1384612                    0                    0                    0   \n",
       "1384613                    0                    0                    1   \n",
       "1384614                    0                    0                    0   \n",
       "1384615                    0                    0                    0   \n",
       "1384616                    0                    0                    0   \n",
       "\n",
       "         department_id_is_21  \n",
       "0                          0  \n",
       "1                          0  \n",
       "2                          0  \n",
       "3                          0  \n",
       "4                          0  \n",
       "...                      ...  \n",
       "1384612                    0  \n",
       "1384613                    0  \n",
       "1384614                    0  \n",
       "1384615                    0  \n",
       "1384616                    0  \n",
       "\n",
       "[1384617 rows x 32 columns]"
      ],
      "text/html": "<div>\n<style scoped>\n    .dataframe tbody tr th:only-of-type {\n        vertical-align: middle;\n    }\n\n    .dataframe tbody tr th {\n        vertical-align: top;\n    }\n\n    .dataframe thead th {\n        text-align: right;\n    }\n</style>\n<table border=\"1\" class=\"dataframe\">\n  <thead>\n    <tr style=\"text-align: right;\">\n      <th></th>\n      <th>order_id</th>\n      <th>product_id</th>\n      <th>add_to_cart_order</th>\n      <th>reordered</th>\n      <th>user_id</th>\n      <th>eval_set</th>\n      <th>order_number</th>\n      <th>order_dow</th>\n      <th>order_hour_of_day</th>\n      <th>days_since_prior_order</th>\n      <th>...</th>\n      <th>department_id_is_12</th>\n      <th>department_id_is_13</th>\n      <th>department_id_is_14</th>\n      <th>department_id_is_15</th>\n      <th>department_id_is_16</th>\n      <th>department_id_is_17</th>\n      <th>department_id_is_18</th>\n      <th>department_id_is_19</th>\n      <th>department_id_is_20</th>\n      <th>department_id_is_21</th>\n    </tr>\n  </thead>\n  <tbody>\n    <tr>\n      <th>0</th>\n      <td>1</td>\n      <td>49302</td>\n      <td>1</td>\n      <td>1</td>\n      <td>112108</td>\n      <td>train</td>\n      <td>4</td>\n      <td>4</td>\n      <td>10</td>\n      <td>9.0</td>\n      <td>...</td>\n      <td>0</td>\n      <td>0</td>\n      <td>0</td>\n      <td>0</td>\n      <td>1</td>\n      <td>0</td>\n      <td>0</td>\n      <td>0</td>\n      <td>0</td>\n      <td>0</td>\n    </tr>\n    <tr>\n      <th>1</th>\n      <td>1</td>\n      <td>11109</td>\n      <td>2</td>\n      <td>1</td>\n      <td>112108</td>\n      <td>train</td>\n      <td>4</td>\n      <td>4</td>\n      <td>10</td>\n      <td>9.0</td>\n      <td>...</td>\n      <td>0</td>\n      <td>0</td>\n      <td>0</td>\n      <td>0</td>\n      <td>1</td>\n      <td>0</td>\n      <td>0</td>\n      <td>0</td>\n      <td>0</td>\n      <td>0</td>\n    </tr>\n    <tr>\n      <th>2</th>\n      <td>1</td>\n      <td>10246</td>\n      <td>3</td>\n      <td>0</td>\n      <td>112108</td>\n      <td>train</td>\n      <td>4</td>\n      <td>4</td>\n      <td>10</td>\n      <td>9.0</td>\n      <td>...</td>\n      <td>0</td>\n      <td>0</td>\n      <td>0</td>\n      <td>0</td>\n      <td>0</td>\n      <td>0</td>\n      <td>0</td>\n      <td>0</td>\n      <td>0</td>\n      <td>0</td>\n    </tr>\n    <tr>\n      <th>3</th>\n      <td>1</td>\n      <td>49683</td>\n      <td>4</td>\n      <td>0</td>\n      <td>112108</td>\n      <td>train</td>\n      <td>4</td>\n      <td>4</td>\n      <td>10</td>\n      <td>9.0</td>\n      <td>...</td>\n      <td>0</td>\n      <td>0</td>\n      <td>0</td>\n      <td>0</td>\n      <td>0</td>\n      <td>0</td>\n      <td>0</td>\n      <td>0</td>\n      <td>0</td>\n      <td>0</td>\n    </tr>\n    <tr>\n      <th>4</th>\n      <td>1</td>\n      <td>43633</td>\n      <td>5</td>\n      <td>1</td>\n      <td>112108</td>\n      <td>train</td>\n      <td>4</td>\n      <td>4</td>\n      <td>10</td>\n      <td>9.0</td>\n      <td>...</td>\n      <td>0</td>\n      <td>0</td>\n      <td>0</td>\n      <td>1</td>\n      <td>0</td>\n      <td>0</td>\n      <td>0</td>\n      <td>0</td>\n      <td>0</td>\n      <td>0</td>\n    </tr>\n    <tr>\n      <th>...</th>\n      <td>...</td>\n      <td>...</td>\n      <td>...</td>\n      <td>...</td>\n      <td>...</td>\n      <td>...</td>\n      <td>...</td>\n      <td>...</td>\n      <td>...</td>\n      <td>...</td>\n      <td>...</td>\n      <td>...</td>\n      <td>...</td>\n      <td>...</td>\n      <td>...</td>\n      <td>...</td>\n      <td>...</td>\n      <td>...</td>\n      <td>...</td>\n      <td>...</td>\n      <td>...</td>\n    </tr>\n    <tr>\n      <th>1384612</th>\n      <td>3421063</td>\n      <td>14233</td>\n      <td>3</td>\n      <td>1</td>\n      <td>169679</td>\n      <td>train</td>\n      <td>30</td>\n      <td>0</td>\n      <td>10</td>\n      <td>4.0</td>\n      <td>...</td>\n      <td>0</td>\n      <td>0</td>\n      <td>0</td>\n      <td>0</td>\n      <td>0</td>\n      <td>0</td>\n      <td>0</td>\n      <td>0</td>\n      <td>0</td>\n      <td>0</td>\n    </tr>\n    <tr>\n      <th>1384613</th>\n      <td>3421063</td>\n      <td>35548</td>\n      <td>4</td>\n      <td>1</td>\n      <td>169679</td>\n      <td>train</td>\n      <td>30</td>\n      <td>0</td>\n      <td>10</td>\n      <td>4.0</td>\n      <td>...</td>\n      <td>0</td>\n      <td>0</td>\n      <td>0</td>\n      <td>0</td>\n      <td>0</td>\n      <td>0</td>\n      <td>0</td>\n      <td>0</td>\n      <td>1</td>\n      <td>0</td>\n    </tr>\n    <tr>\n      <th>1384614</th>\n      <td>3421070</td>\n      <td>35951</td>\n      <td>1</td>\n      <td>1</td>\n      <td>139822</td>\n      <td>train</td>\n      <td>15</td>\n      <td>6</td>\n      <td>10</td>\n      <td>8.0</td>\n      <td>...</td>\n      <td>0</td>\n      <td>0</td>\n      <td>0</td>\n      <td>0</td>\n      <td>1</td>\n      <td>0</td>\n      <td>0</td>\n      <td>0</td>\n      <td>0</td>\n      <td>0</td>\n    </tr>\n    <tr>\n      <th>1384615</th>\n      <td>3421070</td>\n      <td>16953</td>\n      <td>2</td>\n      <td>1</td>\n      <td>139822</td>\n      <td>train</td>\n      <td>15</td>\n      <td>6</td>\n      <td>10</td>\n      <td>8.0</td>\n      <td>...</td>\n      <td>0</td>\n      <td>1</td>\n      <td>0</td>\n      <td>0</td>\n      <td>0</td>\n      <td>0</td>\n      <td>0</td>\n      <td>0</td>\n      <td>0</td>\n      <td>0</td>\n    </tr>\n    <tr>\n      <th>1384616</th>\n      <td>3421070</td>\n      <td>4724</td>\n      <td>3</td>\n      <td>1</td>\n      <td>139822</td>\n      <td>train</td>\n      <td>15</td>\n      <td>6</td>\n      <td>10</td>\n      <td>8.0</td>\n      <td>...</td>\n      <td>0</td>\n      <td>0</td>\n      <td>0</td>\n      <td>0</td>\n      <td>0</td>\n      <td>0</td>\n      <td>0</td>\n      <td>0</td>\n      <td>0</td>\n      <td>0</td>\n    </tr>\n  </tbody>\n</table>\n<p>1384617 rows × 32 columns</p>\n</div>"
     },
     "metadata": {},
     "execution_count": 65
    }
   ],
   "source": [
    "train_df = merge_dfs(order_products__train, orders, products)\n",
    "train_df"
   ]
  },
  {
   "cell_type": "code",
   "execution_count": 66,
   "metadata": {},
   "outputs": [
    {
     "output_type": "execute_result",
     "data": {
      "text/plain": [
       "         order_id  product_id\n",
       "0               1       49302\n",
       "1               1       11109\n",
       "2               1       10246\n",
       "3               1       49683\n",
       "4               1       43633\n",
       "...           ...         ...\n",
       "1384612   3421063       14233\n",
       "1384613   3421063       35548\n",
       "1384614   3421070       35951\n",
       "1384615   3421070       16953\n",
       "1384616   3421070        4724\n",
       "\n",
       "[1384617 rows x 2 columns]"
      ],
      "text/html": "<div>\n<style scoped>\n    .dataframe tbody tr th:only-of-type {\n        vertical-align: middle;\n    }\n\n    .dataframe tbody tr th {\n        vertical-align: top;\n    }\n\n    .dataframe thead th {\n        text-align: right;\n    }\n</style>\n<table border=\"1\" class=\"dataframe\">\n  <thead>\n    <tr style=\"text-align: right;\">\n      <th></th>\n      <th>order_id</th>\n      <th>product_id</th>\n    </tr>\n  </thead>\n  <tbody>\n    <tr>\n      <th>0</th>\n      <td>1</td>\n      <td>49302</td>\n    </tr>\n    <tr>\n      <th>1</th>\n      <td>1</td>\n      <td>11109</td>\n    </tr>\n    <tr>\n      <th>2</th>\n      <td>1</td>\n      <td>10246</td>\n    </tr>\n    <tr>\n      <th>3</th>\n      <td>1</td>\n      <td>49683</td>\n    </tr>\n    <tr>\n      <th>4</th>\n      <td>1</td>\n      <td>43633</td>\n    </tr>\n    <tr>\n      <th>...</th>\n      <td>...</td>\n      <td>...</td>\n    </tr>\n    <tr>\n      <th>1384612</th>\n      <td>3421063</td>\n      <td>14233</td>\n    </tr>\n    <tr>\n      <th>1384613</th>\n      <td>3421063</td>\n      <td>35548</td>\n    </tr>\n    <tr>\n      <th>1384614</th>\n      <td>3421070</td>\n      <td>35951</td>\n    </tr>\n    <tr>\n      <th>1384615</th>\n      <td>3421070</td>\n      <td>16953</td>\n    </tr>\n    <tr>\n      <th>1384616</th>\n      <td>3421070</td>\n      <td>4724</td>\n    </tr>\n  </tbody>\n</table>\n<p>1384617 rows × 2 columns</p>\n</div>"
     },
     "metadata": {},
     "execution_count": 66
    }
   ],
   "source": [
    "train_info = pd.DataFrame(train_df, columns=['order_id', 'product_id'])\n",
    "train_info"
   ]
  },
  {
   "cell_type": "code",
   "execution_count": 67,
   "metadata": {},
   "outputs": [
    {
     "output_type": "execute_result",
     "data": {
      "text/plain": [
       "         add_to_cart_order  reordered  order_number  order_dow  \\\n",
       "0                        1          1             4          4   \n",
       "1                        2          1             4          4   \n",
       "2                        3          0             4          4   \n",
       "3                        4          0             4          4   \n",
       "4                        5          1             4          4   \n",
       "...                    ...        ...           ...        ...   \n",
       "1384612                  3          1            30          0   \n",
       "1384613                  4          1            30          0   \n",
       "1384614                  1          1            15          6   \n",
       "1384615                  2          1            15          6   \n",
       "1384616                  3          1            15          6   \n",
       "\n",
       "         order_hour_of_day  days_since_prior_order  department_id_is_1  \\\n",
       "0                       10                     9.0                   0   \n",
       "1                       10                     9.0                   0   \n",
       "2                       10                     9.0                   0   \n",
       "3                       10                     9.0                   0   \n",
       "4                       10                     9.0                   0   \n",
       "...                    ...                     ...                 ...   \n",
       "1384612                 10                     4.0                   0   \n",
       "1384613                 10                     4.0                   0   \n",
       "1384614                 10                     8.0                   0   \n",
       "1384615                 10                     8.0                   0   \n",
       "1384616                 10                     8.0                   0   \n",
       "\n",
       "         department_id_is_2  department_id_is_3  department_id_is_4  ...  \\\n",
       "0                         0                   0                   0  ...   \n",
       "1                         0                   0                   0  ...   \n",
       "2                         0                   0                   1  ...   \n",
       "3                         0                   0                   1  ...   \n",
       "4                         0                   0                   0  ...   \n",
       "...                     ...                 ...                 ...  ...   \n",
       "1384612                   0                   0                   0  ...   \n",
       "1384613                   0                   0                   0  ...   \n",
       "1384614                   0                   0                   0  ...   \n",
       "1384615                   0                   0                   0  ...   \n",
       "1384616                   0                   0                   1  ...   \n",
       "\n",
       "         department_id_is_12  department_id_is_13  department_id_is_14  \\\n",
       "0                          0                    0                    0   \n",
       "1                          0                    0                    0   \n",
       "2                          0                    0                    0   \n",
       "3                          0                    0                    0   \n",
       "4                          0                    0                    0   \n",
       "...                      ...                  ...                  ...   \n",
       "1384612                    0                    0                    0   \n",
       "1384613                    0                    0                    0   \n",
       "1384614                    0                    0                    0   \n",
       "1384615                    0                    1                    0   \n",
       "1384616                    0                    0                    0   \n",
       "\n",
       "         department_id_is_15  department_id_is_16  department_id_is_17  \\\n",
       "0                          0                    1                    0   \n",
       "1                          0                    1                    0   \n",
       "2                          0                    0                    0   \n",
       "3                          0                    0                    0   \n",
       "4                          1                    0                    0   \n",
       "...                      ...                  ...                  ...   \n",
       "1384612                    0                    0                    0   \n",
       "1384613                    0                    0                    0   \n",
       "1384614                    0                    1                    0   \n",
       "1384615                    0                    0                    0   \n",
       "1384616                    0                    0                    0   \n",
       "\n",
       "         department_id_is_18  department_id_is_19  department_id_is_20  \\\n",
       "0                          0                    0                    0   \n",
       "1                          0                    0                    0   \n",
       "2                          0                    0                    0   \n",
       "3                          0                    0                    0   \n",
       "4                          0                    0                    0   \n",
       "...                      ...                  ...                  ...   \n",
       "1384612                    0                    0                    0   \n",
       "1384613                    0                    0                    1   \n",
       "1384614                    0                    0                    0   \n",
       "1384615                    0                    0                    0   \n",
       "1384616                    0                    0                    0   \n",
       "\n",
       "         department_id_is_21  \n",
       "0                          0  \n",
       "1                          0  \n",
       "2                          0  \n",
       "3                          0  \n",
       "4                          0  \n",
       "...                      ...  \n",
       "1384612                    0  \n",
       "1384613                    0  \n",
       "1384614                    0  \n",
       "1384615                    0  \n",
       "1384616                    0  \n",
       "\n",
       "[1384617 rows x 27 columns]"
      ],
      "text/html": "<div>\n<style scoped>\n    .dataframe tbody tr th:only-of-type {\n        vertical-align: middle;\n    }\n\n    .dataframe tbody tr th {\n        vertical-align: top;\n    }\n\n    .dataframe thead th {\n        text-align: right;\n    }\n</style>\n<table border=\"1\" class=\"dataframe\">\n  <thead>\n    <tr style=\"text-align: right;\">\n      <th></th>\n      <th>add_to_cart_order</th>\n      <th>reordered</th>\n      <th>order_number</th>\n      <th>order_dow</th>\n      <th>order_hour_of_day</th>\n      <th>days_since_prior_order</th>\n      <th>department_id_is_1</th>\n      <th>department_id_is_2</th>\n      <th>department_id_is_3</th>\n      <th>department_id_is_4</th>\n      <th>...</th>\n      <th>department_id_is_12</th>\n      <th>department_id_is_13</th>\n      <th>department_id_is_14</th>\n      <th>department_id_is_15</th>\n      <th>department_id_is_16</th>\n      <th>department_id_is_17</th>\n      <th>department_id_is_18</th>\n      <th>department_id_is_19</th>\n      <th>department_id_is_20</th>\n      <th>department_id_is_21</th>\n    </tr>\n  </thead>\n  <tbody>\n    <tr>\n      <th>0</th>\n      <td>1</td>\n      <td>1</td>\n      <td>4</td>\n      <td>4</td>\n      <td>10</td>\n      <td>9.0</td>\n      <td>0</td>\n      <td>0</td>\n      <td>0</td>\n      <td>0</td>\n      <td>...</td>\n      <td>0</td>\n      <td>0</td>\n      <td>0</td>\n      <td>0</td>\n      <td>1</td>\n      <td>0</td>\n      <td>0</td>\n      <td>0</td>\n      <td>0</td>\n      <td>0</td>\n    </tr>\n    <tr>\n      <th>1</th>\n      <td>2</td>\n      <td>1</td>\n      <td>4</td>\n      <td>4</td>\n      <td>10</td>\n      <td>9.0</td>\n      <td>0</td>\n      <td>0</td>\n      <td>0</td>\n      <td>0</td>\n      <td>...</td>\n      <td>0</td>\n      <td>0</td>\n      <td>0</td>\n      <td>0</td>\n      <td>1</td>\n      <td>0</td>\n      <td>0</td>\n      <td>0</td>\n      <td>0</td>\n      <td>0</td>\n    </tr>\n    <tr>\n      <th>2</th>\n      <td>3</td>\n      <td>0</td>\n      <td>4</td>\n      <td>4</td>\n      <td>10</td>\n      <td>9.0</td>\n      <td>0</td>\n      <td>0</td>\n      <td>0</td>\n      <td>1</td>\n      <td>...</td>\n      <td>0</td>\n      <td>0</td>\n      <td>0</td>\n      <td>0</td>\n      <td>0</td>\n      <td>0</td>\n      <td>0</td>\n      <td>0</td>\n      <td>0</td>\n      <td>0</td>\n    </tr>\n    <tr>\n      <th>3</th>\n      <td>4</td>\n      <td>0</td>\n      <td>4</td>\n      <td>4</td>\n      <td>10</td>\n      <td>9.0</td>\n      <td>0</td>\n      <td>0</td>\n      <td>0</td>\n      <td>1</td>\n      <td>...</td>\n      <td>0</td>\n      <td>0</td>\n      <td>0</td>\n      <td>0</td>\n      <td>0</td>\n      <td>0</td>\n      <td>0</td>\n      <td>0</td>\n      <td>0</td>\n      <td>0</td>\n    </tr>\n    <tr>\n      <th>4</th>\n      <td>5</td>\n      <td>1</td>\n      <td>4</td>\n      <td>4</td>\n      <td>10</td>\n      <td>9.0</td>\n      <td>0</td>\n      <td>0</td>\n      <td>0</td>\n      <td>0</td>\n      <td>...</td>\n      <td>0</td>\n      <td>0</td>\n      <td>0</td>\n      <td>1</td>\n      <td>0</td>\n      <td>0</td>\n      <td>0</td>\n      <td>0</td>\n      <td>0</td>\n      <td>0</td>\n    </tr>\n    <tr>\n      <th>...</th>\n      <td>...</td>\n      <td>...</td>\n      <td>...</td>\n      <td>...</td>\n      <td>...</td>\n      <td>...</td>\n      <td>...</td>\n      <td>...</td>\n      <td>...</td>\n      <td>...</td>\n      <td>...</td>\n      <td>...</td>\n      <td>...</td>\n      <td>...</td>\n      <td>...</td>\n      <td>...</td>\n      <td>...</td>\n      <td>...</td>\n      <td>...</td>\n      <td>...</td>\n      <td>...</td>\n    </tr>\n    <tr>\n      <th>1384612</th>\n      <td>3</td>\n      <td>1</td>\n      <td>30</td>\n      <td>0</td>\n      <td>10</td>\n      <td>4.0</td>\n      <td>0</td>\n      <td>0</td>\n      <td>0</td>\n      <td>0</td>\n      <td>...</td>\n      <td>0</td>\n      <td>0</td>\n      <td>0</td>\n      <td>0</td>\n      <td>0</td>\n      <td>0</td>\n      <td>0</td>\n      <td>0</td>\n      <td>0</td>\n      <td>0</td>\n    </tr>\n    <tr>\n      <th>1384613</th>\n      <td>4</td>\n      <td>1</td>\n      <td>30</td>\n      <td>0</td>\n      <td>10</td>\n      <td>4.0</td>\n      <td>0</td>\n      <td>0</td>\n      <td>0</td>\n      <td>0</td>\n      <td>...</td>\n      <td>0</td>\n      <td>0</td>\n      <td>0</td>\n      <td>0</td>\n      <td>0</td>\n      <td>0</td>\n      <td>0</td>\n      <td>0</td>\n      <td>1</td>\n      <td>0</td>\n    </tr>\n    <tr>\n      <th>1384614</th>\n      <td>1</td>\n      <td>1</td>\n      <td>15</td>\n      <td>6</td>\n      <td>10</td>\n      <td>8.0</td>\n      <td>0</td>\n      <td>0</td>\n      <td>0</td>\n      <td>0</td>\n      <td>...</td>\n      <td>0</td>\n      <td>0</td>\n      <td>0</td>\n      <td>0</td>\n      <td>1</td>\n      <td>0</td>\n      <td>0</td>\n      <td>0</td>\n      <td>0</td>\n      <td>0</td>\n    </tr>\n    <tr>\n      <th>1384615</th>\n      <td>2</td>\n      <td>1</td>\n      <td>15</td>\n      <td>6</td>\n      <td>10</td>\n      <td>8.0</td>\n      <td>0</td>\n      <td>0</td>\n      <td>0</td>\n      <td>0</td>\n      <td>...</td>\n      <td>0</td>\n      <td>1</td>\n      <td>0</td>\n      <td>0</td>\n      <td>0</td>\n      <td>0</td>\n      <td>0</td>\n      <td>0</td>\n      <td>0</td>\n      <td>0</td>\n    </tr>\n    <tr>\n      <th>1384616</th>\n      <td>3</td>\n      <td>1</td>\n      <td>15</td>\n      <td>6</td>\n      <td>10</td>\n      <td>8.0</td>\n      <td>0</td>\n      <td>0</td>\n      <td>0</td>\n      <td>1</td>\n      <td>...</td>\n      <td>0</td>\n      <td>0</td>\n      <td>0</td>\n      <td>0</td>\n      <td>0</td>\n      <td>0</td>\n      <td>0</td>\n      <td>0</td>\n      <td>0</td>\n      <td>0</td>\n    </tr>\n  </tbody>\n</table>\n<p>1384617 rows × 27 columns</p>\n</div>"
     },
     "metadata": {},
     "execution_count": 67
    }
   ],
   "source": [
    "train_df = train_df.drop(columns = ['order_id', 'product_id', 'user_id', 'eval_set', 'aisle_id'])\n",
    "train_df"
   ]
  },
  {
   "cell_type": "code",
   "execution_count": 68,
   "metadata": {},
   "outputs": [
    {
     "output_type": "execute_result",
     "data": {
      "text/plain": [
       "         reordered\n",
       "0                1\n",
       "1                1\n",
       "2                0\n",
       "3                0\n",
       "4                1\n",
       "...            ...\n",
       "1384612          1\n",
       "1384613          1\n",
       "1384614          1\n",
       "1384615          1\n",
       "1384616          1\n",
       "\n",
       "[1384617 rows x 1 columns]"
      ],
      "text/html": "<div>\n<style scoped>\n    .dataframe tbody tr th:only-of-type {\n        vertical-align: middle;\n    }\n\n    .dataframe tbody tr th {\n        vertical-align: top;\n    }\n\n    .dataframe thead th {\n        text-align: right;\n    }\n</style>\n<table border=\"1\" class=\"dataframe\">\n  <thead>\n    <tr style=\"text-align: right;\">\n      <th></th>\n      <th>reordered</th>\n    </tr>\n  </thead>\n  <tbody>\n    <tr>\n      <th>0</th>\n      <td>1</td>\n    </tr>\n    <tr>\n      <th>1</th>\n      <td>1</td>\n    </tr>\n    <tr>\n      <th>2</th>\n      <td>0</td>\n    </tr>\n    <tr>\n      <th>3</th>\n      <td>0</td>\n    </tr>\n    <tr>\n      <th>4</th>\n      <td>1</td>\n    </tr>\n    <tr>\n      <th>...</th>\n      <td>...</td>\n    </tr>\n    <tr>\n      <th>1384612</th>\n      <td>1</td>\n    </tr>\n    <tr>\n      <th>1384613</th>\n      <td>1</td>\n    </tr>\n    <tr>\n      <th>1384614</th>\n      <td>1</td>\n    </tr>\n    <tr>\n      <th>1384615</th>\n      <td>1</td>\n    </tr>\n    <tr>\n      <th>1384616</th>\n      <td>1</td>\n    </tr>\n  </tbody>\n</table>\n<p>1384617 rows × 1 columns</p>\n</div>"
     },
     "metadata": {},
     "execution_count": 68
    }
   ],
   "source": [
    "train_y = pd.DataFrame(train_df, columns = ['reordered'])\n",
    "train_y"
   ]
  },
  {
   "cell_type": "code",
   "execution_count": 69,
   "metadata": {},
   "outputs": [
    {
     "output_type": "execute_result",
     "data": {
      "text/plain": [
       "         add_to_cart_order  order_number  order_dow  order_hour_of_day  \\\n",
       "0                        1             4          4                 10   \n",
       "1                        2             4          4                 10   \n",
       "2                        3             4          4                 10   \n",
       "3                        4             4          4                 10   \n",
       "4                        5             4          4                 10   \n",
       "...                    ...           ...        ...                ...   \n",
       "1384612                  3            30          0                 10   \n",
       "1384613                  4            30          0                 10   \n",
       "1384614                  1            15          6                 10   \n",
       "1384615                  2            15          6                 10   \n",
       "1384616                  3            15          6                 10   \n",
       "\n",
       "         days_since_prior_order  department_id_is_1  department_id_is_2  \\\n",
       "0                           9.0                   0                   0   \n",
       "1                           9.0                   0                   0   \n",
       "2                           9.0                   0                   0   \n",
       "3                           9.0                   0                   0   \n",
       "4                           9.0                   0                   0   \n",
       "...                         ...                 ...                 ...   \n",
       "1384612                     4.0                   0                   0   \n",
       "1384613                     4.0                   0                   0   \n",
       "1384614                     8.0                   0                   0   \n",
       "1384615                     8.0                   0                   0   \n",
       "1384616                     8.0                   0                   0   \n",
       "\n",
       "         department_id_is_3  department_id_is_4  department_id_is_5  ...  \\\n",
       "0                         0                   0                   0  ...   \n",
       "1                         0                   0                   0  ...   \n",
       "2                         0                   1                   0  ...   \n",
       "3                         0                   1                   0  ...   \n",
       "4                         0                   0                   0  ...   \n",
       "...                     ...                 ...                 ...  ...   \n",
       "1384612                   0                   0                   0  ...   \n",
       "1384613                   0                   0                   0  ...   \n",
       "1384614                   0                   0                   0  ...   \n",
       "1384615                   0                   0                   0  ...   \n",
       "1384616                   0                   1                   0  ...   \n",
       "\n",
       "         department_id_is_12  department_id_is_13  department_id_is_14  \\\n",
       "0                          0                    0                    0   \n",
       "1                          0                    0                    0   \n",
       "2                          0                    0                    0   \n",
       "3                          0                    0                    0   \n",
       "4                          0                    0                    0   \n",
       "...                      ...                  ...                  ...   \n",
       "1384612                    0                    0                    0   \n",
       "1384613                    0                    0                    0   \n",
       "1384614                    0                    0                    0   \n",
       "1384615                    0                    1                    0   \n",
       "1384616                    0                    0                    0   \n",
       "\n",
       "         department_id_is_15  department_id_is_16  department_id_is_17  \\\n",
       "0                          0                    1                    0   \n",
       "1                          0                    1                    0   \n",
       "2                          0                    0                    0   \n",
       "3                          0                    0                    0   \n",
       "4                          1                    0                    0   \n",
       "...                      ...                  ...                  ...   \n",
       "1384612                    0                    0                    0   \n",
       "1384613                    0                    0                    0   \n",
       "1384614                    0                    1                    0   \n",
       "1384615                    0                    0                    0   \n",
       "1384616                    0                    0                    0   \n",
       "\n",
       "         department_id_is_18  department_id_is_19  department_id_is_20  \\\n",
       "0                          0                    0                    0   \n",
       "1                          0                    0                    0   \n",
       "2                          0                    0                    0   \n",
       "3                          0                    0                    0   \n",
       "4                          0                    0                    0   \n",
       "...                      ...                  ...                  ...   \n",
       "1384612                    0                    0                    0   \n",
       "1384613                    0                    0                    1   \n",
       "1384614                    0                    0                    0   \n",
       "1384615                    0                    0                    0   \n",
       "1384616                    0                    0                    0   \n",
       "\n",
       "         department_id_is_21  \n",
       "0                          0  \n",
       "1                          0  \n",
       "2                          0  \n",
       "3                          0  \n",
       "4                          0  \n",
       "...                      ...  \n",
       "1384612                    0  \n",
       "1384613                    0  \n",
       "1384614                    0  \n",
       "1384615                    0  \n",
       "1384616                    0  \n",
       "\n",
       "[1384617 rows x 26 columns]"
      ],
      "text/html": "<div>\n<style scoped>\n    .dataframe tbody tr th:only-of-type {\n        vertical-align: middle;\n    }\n\n    .dataframe tbody tr th {\n        vertical-align: top;\n    }\n\n    .dataframe thead th {\n        text-align: right;\n    }\n</style>\n<table border=\"1\" class=\"dataframe\">\n  <thead>\n    <tr style=\"text-align: right;\">\n      <th></th>\n      <th>add_to_cart_order</th>\n      <th>order_number</th>\n      <th>order_dow</th>\n      <th>order_hour_of_day</th>\n      <th>days_since_prior_order</th>\n      <th>department_id_is_1</th>\n      <th>department_id_is_2</th>\n      <th>department_id_is_3</th>\n      <th>department_id_is_4</th>\n      <th>department_id_is_5</th>\n      <th>...</th>\n      <th>department_id_is_12</th>\n      <th>department_id_is_13</th>\n      <th>department_id_is_14</th>\n      <th>department_id_is_15</th>\n      <th>department_id_is_16</th>\n      <th>department_id_is_17</th>\n      <th>department_id_is_18</th>\n      <th>department_id_is_19</th>\n      <th>department_id_is_20</th>\n      <th>department_id_is_21</th>\n    </tr>\n  </thead>\n  <tbody>\n    <tr>\n      <th>0</th>\n      <td>1</td>\n      <td>4</td>\n      <td>4</td>\n      <td>10</td>\n      <td>9.0</td>\n      <td>0</td>\n      <td>0</td>\n      <td>0</td>\n      <td>0</td>\n      <td>0</td>\n      <td>...</td>\n      <td>0</td>\n      <td>0</td>\n      <td>0</td>\n      <td>0</td>\n      <td>1</td>\n      <td>0</td>\n      <td>0</td>\n      <td>0</td>\n      <td>0</td>\n      <td>0</td>\n    </tr>\n    <tr>\n      <th>1</th>\n      <td>2</td>\n      <td>4</td>\n      <td>4</td>\n      <td>10</td>\n      <td>9.0</td>\n      <td>0</td>\n      <td>0</td>\n      <td>0</td>\n      <td>0</td>\n      <td>0</td>\n      <td>...</td>\n      <td>0</td>\n      <td>0</td>\n      <td>0</td>\n      <td>0</td>\n      <td>1</td>\n      <td>0</td>\n      <td>0</td>\n      <td>0</td>\n      <td>0</td>\n      <td>0</td>\n    </tr>\n    <tr>\n      <th>2</th>\n      <td>3</td>\n      <td>4</td>\n      <td>4</td>\n      <td>10</td>\n      <td>9.0</td>\n      <td>0</td>\n      <td>0</td>\n      <td>0</td>\n      <td>1</td>\n      <td>0</td>\n      <td>...</td>\n      <td>0</td>\n      <td>0</td>\n      <td>0</td>\n      <td>0</td>\n      <td>0</td>\n      <td>0</td>\n      <td>0</td>\n      <td>0</td>\n      <td>0</td>\n      <td>0</td>\n    </tr>\n    <tr>\n      <th>3</th>\n      <td>4</td>\n      <td>4</td>\n      <td>4</td>\n      <td>10</td>\n      <td>9.0</td>\n      <td>0</td>\n      <td>0</td>\n      <td>0</td>\n      <td>1</td>\n      <td>0</td>\n      <td>...</td>\n      <td>0</td>\n      <td>0</td>\n      <td>0</td>\n      <td>0</td>\n      <td>0</td>\n      <td>0</td>\n      <td>0</td>\n      <td>0</td>\n      <td>0</td>\n      <td>0</td>\n    </tr>\n    <tr>\n      <th>4</th>\n      <td>5</td>\n      <td>4</td>\n      <td>4</td>\n      <td>10</td>\n      <td>9.0</td>\n      <td>0</td>\n      <td>0</td>\n      <td>0</td>\n      <td>0</td>\n      <td>0</td>\n      <td>...</td>\n      <td>0</td>\n      <td>0</td>\n      <td>0</td>\n      <td>1</td>\n      <td>0</td>\n      <td>0</td>\n      <td>0</td>\n      <td>0</td>\n      <td>0</td>\n      <td>0</td>\n    </tr>\n    <tr>\n      <th>...</th>\n      <td>...</td>\n      <td>...</td>\n      <td>...</td>\n      <td>...</td>\n      <td>...</td>\n      <td>...</td>\n      <td>...</td>\n      <td>...</td>\n      <td>...</td>\n      <td>...</td>\n      <td>...</td>\n      <td>...</td>\n      <td>...</td>\n      <td>...</td>\n      <td>...</td>\n      <td>...</td>\n      <td>...</td>\n      <td>...</td>\n      <td>...</td>\n      <td>...</td>\n      <td>...</td>\n    </tr>\n    <tr>\n      <th>1384612</th>\n      <td>3</td>\n      <td>30</td>\n      <td>0</td>\n      <td>10</td>\n      <td>4.0</td>\n      <td>0</td>\n      <td>0</td>\n      <td>0</td>\n      <td>0</td>\n      <td>0</td>\n      <td>...</td>\n      <td>0</td>\n      <td>0</td>\n      <td>0</td>\n      <td>0</td>\n      <td>0</td>\n      <td>0</td>\n      <td>0</td>\n      <td>0</td>\n      <td>0</td>\n      <td>0</td>\n    </tr>\n    <tr>\n      <th>1384613</th>\n      <td>4</td>\n      <td>30</td>\n      <td>0</td>\n      <td>10</td>\n      <td>4.0</td>\n      <td>0</td>\n      <td>0</td>\n      <td>0</td>\n      <td>0</td>\n      <td>0</td>\n      <td>...</td>\n      <td>0</td>\n      <td>0</td>\n      <td>0</td>\n      <td>0</td>\n      <td>0</td>\n      <td>0</td>\n      <td>0</td>\n      <td>0</td>\n      <td>1</td>\n      <td>0</td>\n    </tr>\n    <tr>\n      <th>1384614</th>\n      <td>1</td>\n      <td>15</td>\n      <td>6</td>\n      <td>10</td>\n      <td>8.0</td>\n      <td>0</td>\n      <td>0</td>\n      <td>0</td>\n      <td>0</td>\n      <td>0</td>\n      <td>...</td>\n      <td>0</td>\n      <td>0</td>\n      <td>0</td>\n      <td>0</td>\n      <td>1</td>\n      <td>0</td>\n      <td>0</td>\n      <td>0</td>\n      <td>0</td>\n      <td>0</td>\n    </tr>\n    <tr>\n      <th>1384615</th>\n      <td>2</td>\n      <td>15</td>\n      <td>6</td>\n      <td>10</td>\n      <td>8.0</td>\n      <td>0</td>\n      <td>0</td>\n      <td>0</td>\n      <td>0</td>\n      <td>0</td>\n      <td>...</td>\n      <td>0</td>\n      <td>1</td>\n      <td>0</td>\n      <td>0</td>\n      <td>0</td>\n      <td>0</td>\n      <td>0</td>\n      <td>0</td>\n      <td>0</td>\n      <td>0</td>\n    </tr>\n    <tr>\n      <th>1384616</th>\n      <td>3</td>\n      <td>15</td>\n      <td>6</td>\n      <td>10</td>\n      <td>8.0</td>\n      <td>0</td>\n      <td>0</td>\n      <td>0</td>\n      <td>1</td>\n      <td>0</td>\n      <td>...</td>\n      <td>0</td>\n      <td>0</td>\n      <td>0</td>\n      <td>0</td>\n      <td>0</td>\n      <td>0</td>\n      <td>0</td>\n      <td>0</td>\n      <td>0</td>\n      <td>0</td>\n    </tr>\n  </tbody>\n</table>\n<p>1384617 rows × 26 columns</p>\n</div>"
     },
     "metadata": {},
     "execution_count": 69
    }
   ],
   "source": [
    "train_x = train_df.drop(columns = ['reordered'])\n",
    "train_x"
   ]
  },
  {
   "cell_type": "code",
   "execution_count": 70,
   "metadata": {},
   "outputs": [],
   "source": [
    "train_info.to_csv(\"train_info.csv\", index = False)\n",
    "train_x.to_csv(\"train_x.csv\", index = False)\n",
    "train_y.to_csv(\"train_y.csv\", index = False)"
   ]
  },
  {
   "cell_type": "code",
   "execution_count": null,
   "metadata": {},
   "outputs": [],
   "source": [
    "# Right now, we have only considered if an order has a prior order\n",
    "# We haven't considered whether a product has been re-ordered\n",
    "# If we are going to take the 2nd one into consideration, \n",
    "# we need to calculate : 1) how many times it has been ordered before;    2) how many days since the last time it was ordered\n",
    "# However, this approach would be too complex, since it must be customed for each user"
   ]
  }
 ]
}